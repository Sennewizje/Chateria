{
  "nbformat": 4,
  "nbformat_minor": 0,
  "metadata": {
    "colab": {
      "provenance": []
    },
    "kernelspec": {
      "name": "python3",
      "display_name": "Python 3"
    },
    "language_info": {
      "name": "python"
    }
  },
  "cells": [
    {
      "cell_type": "code",
      "execution_count": null,
      "metadata": {
        "id": "ESZiQiY8UO8i"
      },
      "outputs": [],
      "source": []
    },
    {
      "cell_type": "markdown",
      "source": [
        "*Lorem ipsum dolor sit amet, consectetur adipiscing elit.  *\n",
        "\n",
        "*   Proin facilisis odio vel lobortis lobortis.\n",
        "*   Pellentesque dapibus volutpat enim non porttitor.\n",
        "\n",
        "*Proin dui nisl, vehicula in congue at, tincidunt vitae metus.\n",
        "\n",
        "1.   Vivamus eros neque, iaculis at lobortis eget, scelerisque dignissim ex.\n",
        "2.  Morbi ac ultrices tellus.\n",
        "  \n",
        "> Donec auctor urna eget nunc convallis, sed viverra leo posuere.\n",
        "\n",
        "*Nulla non euismod purus, non placerat nisl. Donec maximus non lorem ac pulvinar. In luctus sodales ipsum et commodo.*"
      ],
      "metadata": {
        "id": "QQrfM-DnVMnY"
      }
    },
    {
      "cell_type": "markdown",
      "source": [
        "Które z następujących zadań wymagają w Twojej opinii inteligencji od człowieka:\n",
        "\n",
        "(Według mnie większość z nich wymaga inteligencji ludzkiej, pomijam tu aspekt sztucznej inteligencji, ponieważ do niej najpierw też jest potrzebna sztuczna inteligencja by ja stworzyć a później odpowiednio wyszkolić)\n",
        "\n",
        "• wypełnianie deklaracji PIT - Nie, jeśli mamy podane dane które trzeba uzupełnić, bo wtedy tylko je przepisujemy w odpowiednie rubryczki, natomiast jeśli nie mamy gotowych danych, to trzeba już wiedzieć gdzie je zdobyć i które to są dokładnie.\n",
        "\n",
        "• streszczanie tekstu - Tak, ponieważ by go streścić to najpierw trzeba go przeczytać ze zrozumieniem, później przeanalizować, by następnie wypisać najważniejsze punkty i je ładnie opisać.\n",
        "\n",
        "• tłumaczenie tekstu - Tak, ponieważ by jakiś tekst przetłumaczyc musimy znać język z którego go tłumaczymy, a nauka jego wymaga inteligencji.\n",
        "\n",
        "• klasyfikacja tekstu do kategorii tematycznych - Tak, ponieważ jak wcześniej najpierw trzeba ten tekst przeczytać ze zrozumieniem by następnie móc go przeanalizować i sklasyfikować.\n",
        "\n",
        "• odpowiadanie na proste pytania zadawane w języku naturalnym (np. polskim) - Tak, bo najpierw trzeba znać ten język, i potrafić się nim posługiwać chociaż na podstawowym poziomie. Nauka języka jest skomplikowana oraz wymagająca, i jest do tego potrzebna inteligencja.\n",
        "\n",
        "• układanie rozkładu jazdy transportu miejskiego - I tak, i nie, ponieważ to potrafi zrobić nawet jeden z pierwotniaków - śluzowiec, który jest w stanie znaleźć najszybsza trasę z punktu a do punktu b, omijając rózne przeszkody, ale jest do tego też potrzebna inteligencja człowieka która wykorzysta zdolność tego pierwotniaka do ułożenia rozkładu jazdy dla transportu.\n",
        "\n",
        "• programowanie (pisanie programów komputerowych) - Tak, ponieważ do tego jest potrzebne zrozumienie funkcji komputera, nauka któregoś z języków programowania, i ogólna wiedza jak to można później użyć\n",
        "\n",
        "• „programowanie” kanałów telewizyjnych, - Tak, ponieważ jest to złożony proces który wymaga wiele \"abstrakcyjnego\" myślenia, bo gdy małpa byłaby w stanie włączyć i wyłączyc telewizor poprzez wyszkolenie jej nagrodą, to ta rzecz wymaga już skomplikowanych umiejętności logicznych, i dokonywania wyborów które są oparte na abstrakcyjnych regułach. Choć może jeśli pokazałoby się małpie krok po kroku wiele wiele razy co ma zrobić, to być może byłaby zdolna by to powtórzyć.\n",
        "\n",
        "• testowanie oprogramowania,\n",
        "\n",
        "• komponowanie muzyki - Nie, ponieważ ptaki równierz potrafią na swój sposób skomponować muzykę. A przynajmniej my ich ćwierkot postrzegamy jako muzykę, która ma jakąś kompozycje.\n",
        "\n",
        "• rozwiązywanie układów równań, Tak ponieważ to tego jest potrzebna wiedza z matematyki, na wielu poziomach, które się na siebie nakładają.\n",
        "\n",
        "• symboliczne obliczanie pochodnych funkcji, tak, tak samo jak w powyższym, jest to skomlplikowana czynność matematyczna i trzeba miec wiele wiedzy w tym temacie by to zadanie wykonać\n",
        "\n",
        "• symboliczne całkowanie funkcji - tak samo jak wyżej\n",
        "• kierowanie samochodem. - tak ponieważ jest to bardzo złożona czynność która wymaga od nas poświecenia uwagi, myślenia o wielu rzeczach na raz i obserwowania i swoich zachowań, jak i innych kierowców i wszystkich innych na drogach które przemierzamy\n",
        "\n",
        "\n",
        "Które z następujących problemów można uznać za mieszczące się w zakresie sztucznej inteligencji:\n",
        "\n",
        "• streszczanie tekstu, to - ponieważ najpierw trzeba przeanalizować ten tekst  by później móc go strescić\n",
        "\n",
        "• tłumaczenie tekstu - Zależy, jeśli chcemy dokładne tłumaczenie to sztuczna inteligencja może się przydać ponieważ podczas tłumaczenia ważny jest związek jednego słowa z drugim, jak i to że jedno słowo może miec rózne znaczenie dlatego to też trzeba wziaść pod uwagę, natomiast jeśli nie zalezy nam na bardzo dobrym tłumaczeniu, to wystarczy zwykły słownik który przetłumaczy nam każde słowo pokolei\n",
        "\n",
        "• klasyfikacja tekstu do kategorii tematyczych, Zalezy czy w danym tekście są użyte zwroty z tych kategori, to wtedy można np napisać coś takiego w pythonie, że te zwroty nalezą do tej kategori i by je uporządkował\n",
        "\n",
        "• odpowiadanie na proste pytania zadawane w języku naturalnym, Tak ponieważ najpierw musi znac ten język\n",
        "\n",
        "• rozwiązywanie układów równań, nie To zadanie można wykonać za pomocą klasycznych algorytmów matematycznych, bez potrzeby zaawansowanej sztucznej inteligencji.\n",
        "\n",
        "• układanie rozkładu jazdy, - tak , Sztuczna inteligencja może być używana do optymalizacji rozkładów jazdy, uwzględniając wiele zmiennych, takich jak trasy, czas i ograniczenia zasobów.\n",
        "\n",
        "\n",
        "• rozwiązywanie układów równań liniowych,Nie - Układy równań liniowych mogą być rozwiązywane przez klasyczne metody algebraiczne bez potrzeby używania sztucznej inteligencji\n",
        "\n",
        "\n",
        "• symboliczne obliczanie pochodnych, To zadanie można realizować za pomocą algorytmów w systemach do obliczeń matematycznych, bez potrzeby używania sztucznej inteligencji\n",
        "\n",
        "• symboliczne całkowanie, Nie - Algorytmy do symbolicznego całkowania są dostępne w systemach obliczeniowych i nie wymagają AI.\n",
        "\n",
        "• kierowanie samochodem. Tak - Sztuczna inteligencja (np. uczenie maszynowe, przetwarzanie obrazów) jest kluczowa dla autonomicznego kierowania pojazdami, zwłaszcza w analizie otoczenia i podejmowaniu decyzji w czasie rzeczywistym.\n",
        "\n",
        "Które z poniższych rodzajów komunikacyjnego zachowania człowieka mogą być obecnie skutecznie imitowane przez sztuczne systemy (odpowiednio oprogramowane maszyny):\n",
        "\n",
        " • rozmowa towarzyska,\n",
        "\n",
        " • dyskusja polityczna,\n",
        "\n",
        " • dyskusja naukowa,\n",
        "\n",
        " • odpowiadanie na pytania klientów w telefonicznej infolinii,\n",
        "\n",
        " • odpowiadanie na pytania klientów w internetowej infolinii.\n",
        "\n",
        " Odp: Każde z nich, trochę trudniej jeśli chodzi o telefoniczną infolinię ponieważ tam nie wystarzcy samo pisanie, lecz jeszcze odpowiadanie jakimś głosem, i też najpierw powinno dać się tym systemom jakieś reguły do przestrzegania i główne informacje, jak chcoiażby to czym ta firma się zajmuje by odpowiedzi były adekwatne do stanu rzeczywistego.\n",
        "\n",
        "4\n",
        " 1. Przeprowadź rozmowę z chatbotem. Spróbuj zdefiniować różnice pomiędzy botem udającym człowieka (przygotowywanym na test Turinga) a botem „asystentem, służącym”.  Chat bot udający człowieka wedłum mnie wcale nie wie jak tego człowieka udawać. Chodzi mi o to, że nie rozumie co się do niego dokładnie mówi, a bardziej próbuje zaczepiać rozmówcę, by wzbudzić w nim jakieś emocje.\n",
        "\n",
        " 2. Sprawdź dwa boty z obu z tych rodzajów na występowanie zachowań:\n",
        "\n",
        "  a) opowiadanie żartów,\n",
        "  \n",
        "  b) przytaczanie cytatów z twoich wypowiedzi, lub znanych osób,\n",
        "  \n",
        "  c) nawiązywanie wypowiedzi do słów kluczowych,\n",
        "  \n",
        "  d) zadawanie dużej liczby pytań,\n",
        "  \n",
        "  e) powracanie do początku wypowiedzi, sekwencyjne powtarzanie,\n",
        "  \n",
        "  f) zadawanie pytań powstających z twoich wypowiedzi,\n",
        "  \n",
        "  g) odpowiadanie wymijająco, ogólnikowo,\n",
        "  \n",
        "  h) częsta zmiana tematu rozmowy,\n",
        "  \n",
        "  i) problemy z utrzymaniem wątków.\n"
      ],
      "metadata": {
        "id": "5d-dUsKYXeiq"
      }
    }
  ]
}